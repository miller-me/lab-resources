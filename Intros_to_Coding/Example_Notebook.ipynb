{
 "cells": [
  {
   "cell_type": "markdown",
   "id": "82663c6d",
   "metadata": {},
   "source": [
    "# Using Jupyter Notebook"
   ]
  },
  {
   "cell_type": "markdown",
   "id": "62dcc55d",
   "metadata": {},
   "source": [
    "## Markdown\n",
    "\n",
    "Double click this cell and others to see how to create different formatting, and hit `Run` to see the results. In the middle bar, you'll see that \"Markdown\" is selected as the cell type. Markdown is a common \"language\" for formatted text that's supported by many different platforms.\n",
    "\n",
    "# Create headers using hashtags\n",
    "### More hashtags will make a smaller header\n",
    "####### 7 or more hashtags are returned to plain text.\n",
    "\n",
    "_Italicize_ with single underscores *or asterisks* on either side of the text you want to italicize.\n",
    "\n",
    "__Bold__ using double underscores **or asterisks** on either side of the text you want bolded.\n",
    "\n",
    "*__You can also combine the two :)__*\n",
    "\n",
    "You can ~strikethrough text~ as well.\n"
   ]
  },
  {
   "cell_type": "markdown",
   "id": "04ba69db",
   "metadata": {},
   "source": [
    "- Make bulleted lists \n",
    "- and nested lists\n",
    "    - using tabs and a dash\n",
    "    * or asterisks\n",
    "        * and they'll automatically be shown as lists\n",
    "\n",
    "1. You can also number lists\n",
    "    2. and nest them\n",
    "        3. down to four levels\n",
    "            4. (or more, but it's not pretty)\n",
    "            \n",
    "> You can create in-line quotes with \">\" \n",
    ">> and nest them\n",
    ">>> similarly to how you do with lists."
   ]
  },
  {
   "cell_type": "markdown",
   "id": "a40f7317",
   "metadata": {},
   "source": [
    "You can also write in-line code, which is useful for short commands like `$ ls -lh` without having to write them as their own cell. But since this is a Markdown cell, the commands won't actually be run.\n",
    "\n",
    "You can render equations,\n",
    "\n",
    "$d = \\sqrt{x^2 + y^2}$\n",
    "\n",
    "<mark>highlight for emphasis</mark>, or create a table:\n",
    "\n",
    "Left-justified | Centered | Right-justified\n",
    ":---- | :----: | ----\n",
    "1 | 2 | 3\n",
    "x | y | z"
   ]
  },
  {
   "cell_type": "markdown",
   "id": "c9f6c955",
   "metadata": {},
   "source": [
    "[This hyperlink will take you back to the GitHub page.](https://github.com/miller-me/monaghan-lab)\n",
    "\n",
    "![](https://c4.wallpaperflare.com/wallpaper/630/2/378/animal-axolotl-wallpaper-preview.jpg)\n",
    "\n",
    "---"
   ]
  },
  {
   "cell_type": "markdown",
   "id": "9f839df2",
   "metadata": {},
   "source": [
    "## Scripting basics\n",
    "You write code in the `In[ ]` cells, then your output will be displayed in underneath when you run the cell. The following code is all Python."
   ]
  },
  {
   "cell_type": "code",
   "execution_count": null,
   "id": "5cdc8387",
   "metadata": {
    "scrolled": true
   },
   "outputs": [],
   "source": [
    "# You can print whatever you want \n",
    "# by changing the text inside the quotes.\n",
    "print(\"Hello, world!\")\n",
    "\n",
    "# You can also define and perform functions on variables\n",
    "my_string = \"Hello, world!\"\n",
    "print(type(my_string))\n",
    "\n",
    "# Additional formatting is available in print\n",
    "# Change \"\\t\" to \"\\n\" and see what happens\n",
    "print(\"Hello, \"+\"\\t\"+\"world!\")"
   ]
  },
  {
   "cell_type": "code",
   "execution_count": null,
   "id": "11857195",
   "metadata": {
    "scrolled": true
   },
   "outputs": [],
   "source": [
    "# Long outputs will be condensed with a scroll bar\n",
    "# You can toggle this to show the full output\n",
    "# by clicking the left side bar\n",
    "\n",
    "# syntax: range(start, end, interval)\n",
    "for a in range(1, 500, 3):\n",
    "    print(a)"
   ]
  },
  {
   "cell_type": "code",
   "execution_count": null,
   "id": "81f513a1",
   "metadata": {},
   "outputs": [],
   "source": [
    "# Jupyter will output the results of functions\n",
    "# You can name this function whatever you want, not just f(...)\n",
    "def f(x, m, b):\n",
    "    y = m*x + b\n",
    "    return y\n",
    "\n",
    "# This function is defined to need 3 input values.\n",
    "return_value = f(3, 0, 2)\n",
    "\n",
    "# You can sometimes print without using the print command.\n",
    "return_value"
   ]
  },
  {
   "cell_type": "code",
   "execution_count": null,
   "id": "d409f60c",
   "metadata": {},
   "outputs": [],
   "source": [
    "# You can also display help pages\n",
    "help(print)"
   ]
  },
  {
   "cell_type": "markdown",
   "id": "7db50962",
   "metadata": {},
   "source": [
    "### Displaying charts "
   ]
  },
  {
   "cell_type": "markdown",
   "id": "6fdaa9b9",
   "metadata": {},
   "source": [
    "Jupyter can render both static and interactive charts. Here we'll be using `matplotlib` and `plotly` graphing libraries to do this. You will also need the `numpy` package. Return to the Jupyter Notebook introduction for instructions on how to do this through your command line (you can also use line magic! See below). You might have to exit Jupyter Notebook, install the packages, and then relaunch. If you get any errors let me know. "
   ]
  },
  {
   "cell_type": "code",
   "execution_count": null,
   "id": "6508b6e3",
   "metadata": {},
   "outputs": [],
   "source": [
    "# Here I'm giving the packages abbreviated names for easy calling.\n",
    "import matplotlib as mpl\n",
    "import matplotlib.pyplot as plt\n",
    "import numpy as np"
   ]
  },
  {
   "cell_type": "code",
   "execution_count": null,
   "id": "0e855ad1",
   "metadata": {},
   "outputs": [],
   "source": [
    "# Here's an example from the matplotlib documentation:\n",
    "# https://matplotlib.org/stable/tutorials/introductory/usage.html#sphx-glr-tutorials-introductory-usage-py\n",
    "\n",
    "# It's okay if you have no idea what's going on here\n",
    "# Creating random number generator\n",
    "np.random.seed(19680801)\n",
    "data = {'a': np.arange(50),\n",
    "        'c': np.random.randint(0, 50, 50),\n",
    "        'd': np.random.randn(50)}\n",
    "data['b'] = data['a'] + 10 * np.random.randn(50)\n",
    "data['d'] = np.abs(data['d']) * 100\n",
    "\n",
    "# Creating the actual plot with specific layout format\n",
    "fig, ax = plt.subplots(figsize=(5, 3))\n",
    "# Setting scatter plot using earlier 'data' object\n",
    "ax.scatter('a', 'b', c='c', s='d', data=data)\n",
    "# Changing axis names\n",
    "ax.set_xlabel('entry a')\n",
    "ax.set_ylabel('entry b');"
   ]
  },
  {
   "cell_type": "code",
   "execution_count": null,
   "id": "4fbd1016",
   "metadata": {},
   "outputs": [],
   "source": [
    "# Now for a pretty interactive chart from the plotly documentation\n",
    "# https://plotly.com/python/line-and-scatter/\n",
    "import plotly.express as px\n",
    "\n",
    "df = px.data.iris()\n",
    "fig = px.scatter(df, x=\"sepal_width\", y=\"sepal_length\", \n",
    "                 color='petal_length')\n",
    "fig.show()"
   ]
  },
  {
   "cell_type": "markdown",
   "id": "b7ae361f",
   "metadata": {},
   "source": [
    "### Errors\n",
    "If you haven't run the cell above that defines function `f(x, m, b)`, please do :)\n",
    "\n",
    "Jupyter displays error messages underneath the cell, tell you the kind of error, as well as point out the exact line causing the error. "
   ]
  },
  {
   "cell_type": "code",
   "execution_count": null,
   "id": "406dc193",
   "metadata": {},
   "outputs": [],
   "source": [
    "# This function needs 3 input values.\n",
    "# What happens if you only give it two?\n",
    "error_value = f(5, 1)"
   ]
  },
  {
   "cell_type": "code",
   "execution_count": null,
   "id": "c3183f6d",
   "metadata": {
    "scrolled": true
   },
   "outputs": [],
   "source": [
    "# Try to use a variable you haven't created.\n",
    "# This can happen if you change your variable names,\n",
    "# or have a typo somewhere.\n",
    "\n",
    "defined_variable=(1, 2, 3)\n",
    "print(undefined_variable)"
   ]
  },
  {
   "cell_type": "markdown",
   "id": "7e07215f",
   "metadata": {},
   "source": [
    "___"
   ]
  },
  {
   "cell_type": "markdown",
   "id": "ad469f24",
   "metadata": {},
   "source": [
    "## Cell and line magic"
   ]
  },
  {
   "cell_type": "markdown",
   "id": "8ec1788b",
   "metadata": {},
   "source": [
    "Cell magic allows you to embed various commands in your notebook and write in languages other than the current kernel, which is Python. Run the `%lsmagic` cell to see what's available on your computer. I won't demonstrate any here because you might not have the same magics available as I do, but read through your list. \n",
    "\n",
    "`%` precedes line magics. These are commands identical to those you'd use in your command line. You might see familiar commands like `conda`, `cd`, and `rm` (at least in MacOS). \n",
    "\n",
    "`%%` precedes cell magics. As the name implies, these affect the entire cell rather than a single line. They allow you to write in different languages and get more system information."
   ]
  },
  {
   "cell_type": "code",
   "execution_count": null,
   "id": "41c4dfeb",
   "metadata": {
    "scrolled": true
   },
   "outputs": [],
   "source": [
    "%lsmagic"
   ]
  }
 ],
 "metadata": {
  "kernelspec": {
   "display_name": "Python 3 (ipykernel)",
   "language": "python",
   "name": "python3"
  },
  "language_info": {
   "codemirror_mode": {
    "name": "ipython",
    "version": 3
   },
   "file_extension": ".py",
   "mimetype": "text/x-python",
   "name": "python",
   "nbconvert_exporter": "python",
   "pygments_lexer": "ipython3",
   "version": "3.7.12"
  }
 },
 "nbformat": 4,
 "nbformat_minor": 5
}
