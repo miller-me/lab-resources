{
 "cells": [
  {
   "cell_type": "markdown",
   "id": "c480d7e7",
   "metadata": {},
   "source": [
    "# Statistics and Violin Plotting to Excel\n",
    "\n",
    "## What this notebook does:\n",
    "\n",
    "This notebook loops through all \"#_ Condition_DDMMYY.csv\" data files in the working directory and calculates ROI count, mean, median, and standard deviation. The statistics cell also runs Shapiro-Wilk tests of normal distribution and creates Histograms and Probability Plots for each file, then saves them to a  _Histograms_ProbPlots_ folder in the working directory. For each input file, the statistics cell writes the appropriate animal number, hours post denervation, and innervation status in separate columns and outputs a new .csv to the _Appended_CSVs_ folder that is created in the working directory. The statistics cell writes all values, histograms, and probability plots to respective  **Statistics_DDMMYY.xlsx** _Statistics_ or _Histograms_ProbPlots_ worksheets. Subsequent cells calculate innervated:denervated mean intensity ratio and run Mann-Whitney U tests between innervated and denervated data by animal, then writes these to _Statistics_. Later optional cells create Plotly violin plots and Seaborn violin plots to their respective _Plotly_PNGs_, _Plotly_HTMLs_, and _Seaborn_Violins_ folders then export these to the respective **Statistics_DDMMYY.xlsx** _Comparison_Violins_ and _Individual_Violins_ worksheets. The **Statistics_DDMMYY.xlsx** outfile then saves and closes.\n",
    "\n",
    "## Using this notebook:\n",
    "\n",
    "1. Check that this notebook is within the folder that contains .csv data files.\n",
    "\n",
    "2. Check file names are correct: #_Condition_DDMMYY.csv, where # is the animal number, Condition is case-sensitive and one of (Innervated, Denervated, Uninjured, Control), and DDMMYY is the date .csvs were created.\n",
    "\n",
    "3. Change the DDMMYY in the first cell to align with file names. It doesn't have to be specifically \"DDMMYY\" formatted, as long as all files have the same ending.\n",
    "\n",
    "4. Add or remove animals from animals list or hours from hours post denervation (hpd) list in first cell as needed. Edit hpd_sort( ) and violin_df_sort(df) accordingly (see below).\n",
    "\n",
    "5. Removable cells are indicated; these cells can be deleted with no effect on other cells.\n",
    "\n",
    "6. When a cell finishes its function it will print \"Done\". This doesn't mean everything ran perfectly, only that no error was raised.\n",
    "\n",
    "7. The circle in the top left under \"Logout\" will be colored in while the code is running, and empty when it is not. Once the circle is empty after hitting \"run\", scroll to the bottom to make sure there is a number in \"In[#]\" next to the last cell. If there is not - the run did not complete and there is an error somewhere. See troubleshooting section at the end of this notebook for steps."
   ]
  },
  {
   "cell_type": "markdown",
   "id": "adea9b9c",
   "metadata": {},
   "source": [
    "## Things to Edit: "
   ]
  },
  {
   "cell_type": "code",
   "execution_count": 2,
   "id": "1c64a968",
   "metadata": {},
   "outputs": [
    {
     "name": "stdout",
     "output_type": "stream",
     "text": [
      "HPD [(index #, value)]: [(0, 3), (1, 24), (2, 48), (3, 72)] \n",
      "\n",
      "Done\n"
     ]
    }
   ],
   "source": [
    "DDMMYY = '11JUNE2021'\n",
    "animals = (1, 2, 3, 4, 5, 6, 7, 8, 9, 10, 11, 12)\n",
    "hpd = [3, 24, 48, 72]\n",
    "\n",
    "\n",
    "print(\"HPD [(index #, value)]: \"+str(list(enumerate(hpd))), '\\n')\n",
    "print(\"Done\")"
   ]
  },
  {
   "cell_type": "markdown",
   "id": "6c7e3c2b",
   "metadata": {},
   "source": [
    "For if/elif loops in hpd_sort( ) function, define number ranges according to the animals in each Hours Post Denervation condition. \"elif\" loops can be copy-pasted for each number in hpd. Then;\n",
    "\n",
    "1. Check that animal number ranges are defined correctly, keeping \"a\" as the variable. \n",
    "\n",
    "2. Run the cell above to check that indexes are correct in each if/elif, beginning with 0. (e.g., \"hpd[1]\" corresponds to the _second_ hour value.)\n",
    "\n",
    "3. If using Plotly or Seaborn, move on to editing the next cell."
   ]
  },
  {
   "cell_type": "code",
   "execution_count": 3,
   "id": "a64800de",
   "metadata": {},
   "outputs": [
    {
     "name": "stdout",
     "output_type": "stream",
     "text": [
      "Done\n"
     ]
    }
   ],
   "source": [
    "# Defining function to sort hours_post_denervs for appended CSVs\n",
    "def hpd_sort():\n",
    "    if 1 <= a <= 3:\n",
    "        hours_post_denerv = hpd[0]\n",
    "        excel_outfile_statsheet.write_number(statsRowCounter, 3, hours_post_denerv, innervation_format)\n",
    "        if innervated is True:\n",
    "            post_denervs.append(hours_post_denerv)\n",
    "    \n",
    "    elif 4 <= a <= 6:\n",
    "        hours_post_denerv = hpd[1]\n",
    "        excel_outfile_statsheet.write_number(statsRowCounter, 3, hours_post_denerv, innervation_format)\n",
    "        if innervated is True:\n",
    "            post_denervs.append(hours_post_denerv)\n",
    "    \n",
    "    elif 7 <= a <= 9:\n",
    "        hours_post_denerv = hpd[2]\n",
    "        excel_outfile_statsheet.write_number(statsRowCounter, 3, hours_post_denerv, innervation_format)\n",
    "        if innervated is True:\n",
    "            post_denervs.append(hours_post_denerv)\n",
    "    \n",
    "    elif 10 <= a <= 12:\n",
    "        hours_post_denerv = hpd[3]\n",
    "        excel_outfile_statsheet.write_number(statsRowCounter, 3, hours_post_denerv, innervation_format)\n",
    "        if innervated is True:\n",
    "            post_denervs.append(hours_post_denerv)\n",
    "    \n",
    "    append_CSVs(filename, animal_number, innervation, hours_post_denerv)\n",
    "\n",
    "print(\"Done\")"
   ]
  },
  {
   "cell_type": "markdown",
   "id": "7dc14ddc",
   "metadata": {},
   "source": [
    "Similarly to hpd_sort( ), define number ranges according to what animals were in each innervation condition. Indexes should also align with those defined above, i.e., \"keys[0]\" is the same value as \"hpd[0]\". If there are animals with uninjured tissue data, \"uninjured_comparisons.append(df)\" can be moved/copy-pasted accordingly, otherwise add # in front. If/elif loops can be added or deleted as necessary."
   ]
  },
  {
   "cell_type": "code",
   "execution_count": 4,
   "id": "22e8c066",
   "metadata": {},
   "outputs": [
    {
     "name": "stdout",
     "output_type": "stream",
     "text": [
      "Done\n"
     ]
    }
   ],
   "source": [
    "# Defining function to sort violin files\n",
    "# The 'keys' list is created later, but does not need to be edited manually.\n",
    "\n",
    "def violin_df_sort(df):\n",
    "    if 1 <= int(a) <= 3:\n",
    "        hpd_dfs[keys[0]].append(df)\n",
    "        uninjured_comparisons.append(df)\n",
    "    \n",
    "    elif 4 <= int(a) <= 6:\n",
    "        hpd_dfs[keys[1]].append(df)\n",
    "    \n",
    "    elif 7 <= int(a) <= 9:\n",
    "        hpd_dfs[keys[2]].append(df)\n",
    "    \n",
    "    elif 10 <= int(a) <= 12:\n",
    "        hpd_dfs[keys[3]].append(df)\n",
    "\n",
    "print(\"Done\")"
   ]
  },
  {
   "cell_type": "markdown",
   "id": "4fab0554",
   "metadata": {},
   "source": [
    "### End Editing"
   ]
  },
  {
   "cell_type": "markdown",
   "id": "dbf0d7f1",
   "metadata": {},
   "source": [
    "## Packages and objects for all runs"
   ]
  },
  {
   "cell_type": "code",
   "execution_count": 5,
   "id": "410156a6",
   "metadata": {},
   "outputs": [
    {
     "name": "stdout",
     "output_type": "stream",
     "text": [
      "Done\n"
     ]
    }
   ],
   "source": [
    "# These packages and modules are necessary for every run\n",
    "# If using this notebook for the first time on a new computer, \n",
    "# new packages may have to be installed.\n",
    "\n",
    "import pandas as pd\n",
    "import xlsxwriter\n",
    "import os\n",
    "from pathlib import Path\n",
    "from csv import writer, reader\n",
    "\n",
    "# Relative file path of working directory\n",
    "file_path = './'\n",
    "\n",
    "# Defining variable to contain data .csv files from file_path\n",
    "all_files = Path(file_path).glob('*_'+DDMMYY+'.csv')\n",
    "\n",
    "# Creating .xlsx output file; exports to current folder\n",
    "excel_outfile = xlsxwriter.Workbook('Statistics_'+DDMMYY+'.xlsx')\n",
    "\n",
    "print(\"Done\")"
   ]
  },
  {
   "cell_type": "markdown",
   "id": "8d37694b",
   "metadata": {},
   "source": [
    "# Running Statistics"
   ]
  },
  {
   "cell_type": "markdown",
   "id": "55d929ce",
   "metadata": {},
   "source": [
    "### Creating and formatting _Statistics_ worksheet"
   ]
  },
  {
   "cell_type": "code",
   "execution_count": 6,
   "id": "5cf65277",
   "metadata": {},
   "outputs": [
    {
     "name": "stdout",
     "output_type": "stream",
     "text": [
      "Done\n"
     ]
    }
   ],
   "source": [
    "# Creating the worksheet and setting it as the first sheet in workbook\n",
    "try:\n",
    "    excel_outfile_statsheet = excel_outfile.add_worksheet(\"Statistics\")\n",
    "except (xlsxwriter.exceptions.DuplicateWorksheetName):\n",
    "    pass\n",
    "\n",
    "excel_outfile_statsheet.set_first_sheet()\n",
    "\n",
    "# Writing and formatting header of Statistics sheet\n",
    "# Initializing list to contain headers for stats columns\n",
    "headerList = ['Animal', 'Innervation', 'Hours Post Denerv', 'ROI Count', 'Mean Intensity', 'Median Intensity', \n",
    "              'Std Dev', 'Shapiro TestStat', 'Shapiro PValue']\n",
    "\n",
    "# Initializing two cell formats for general and merged cells\n",
    "general_format = excel_outfile.add_format({'bold': True, 'align': 'center', 'border': 1})\n",
    "merge_format = excel_outfile.add_format({'bold': True, 'align': 'center', 'border': 1, 'valign': 'center'})\n",
    "innervation_format = excel_outfile.add_format({'align': 'center', 'border': 1})\n",
    "count_format = excel_outfile.add_format({'align': 'center', 'border': 1, 'num_format': 1})\n",
    "stat_format = excel_outfile.add_format({'align': 'center', 'border': 1, 'num_format': 2})\n",
    "\n",
    "# Initializing a counter to add headers in sequential columns \n",
    "headerColumnCounter = 1\n",
    "\n",
    "# Looping through column headers and writing to cells in Statistics_DDMMYY.xlsx outfile\n",
    "for header in headerList:\n",
    "    general_format.set_bottom(2)\n",
    "    excel_outfile_statsheet.set_column('B:J', len(str(header)))\n",
    "    excel_outfile_statsheet.write(1, headerColumnCounter, header, general_format)\n",
    "    headerColumnCounter += 1\n",
    "\n",
    "# Merging cells above Shapiro-Wilk values\n",
    "excel_outfile_statsheet.merge_range('I1:J1', \"Shapiro-Wilk\", merge_format)\n",
    "\n",
    "print(\"Done\")"
   ]
  },
  {
   "cell_type": "markdown",
   "id": "472621eb",
   "metadata": {},
   "source": [
    "#### p-value significance formatting styles"
   ]
  },
  {
   "cell_type": "code",
   "execution_count": 7,
   "id": "d5fb8024",
   "metadata": {},
   "outputs": [
    {
     "name": "stdout",
     "output_type": "stream",
     "text": [
      "Done\n"
     ]
    }
   ],
   "source": [
    "# Formatting for indicating p value significance\n",
    "p_signif = excel_outfile.add_format({'align': 'center', 'border': 1, 'num_format': 11, 'bg_color': '#D9FFB3'})\n",
    "p_insignif = excel_outfile.add_format({'align': 'center', 'border': 1, 'num_format': 11, 'bg_color': '#F08080'})\n",
    "\n",
    "print(\"Done\")"
   ]
  },
  {
   "cell_type": "markdown",
   "id": "6b61d6a7",
   "metadata": {},
   "source": [
    "### Defining Histogram and Probability Plot folders and functions\n",
    "\n",
    "This cell must be run before statistics cell even if Histograms and Probability Plots will not be exported."
   ]
  },
  {
   "cell_type": "code",
   "execution_count": 8,
   "id": "ffe70372",
   "metadata": {},
   "outputs": [
    {
     "name": "stdout",
     "output_type": "stream",
     "text": [
      "Done\n"
     ]
    }
   ],
   "source": [
    "# Importing necessary packages\n",
    "import pylab\n",
    "from matplotlib import pyplot\n",
    "\n",
    "# Creating folder to contain Histogram and ProbPlot .png files\n",
    "histogram_probplot_directory = \"Histograms_and_Probplots\"\n",
    "StatsCharts_ImageFile_path = os.path.join(file_path, histogram_probplot_directory)\n",
    "try:\n",
    "    os.mkdir(StatsCharts_ImageFile_path)\n",
    "except (FileExistsError):\n",
    "    pass\n",
    "\n",
    "# Defining function to make histograms\n",
    "def histogram_maker():\n",
    "    df = pd.read_csv(csvfile).dropna(axis = 0)\n",
    "    histo_gram = pyplot.hist(df[\"Mean\"], zorder=3)\n",
    "    \n",
    "    title_name = os.path.splitext(csvfile)\n",
    "    pyplot.title(title_name[0], fontdict={'fontweight': 'bold'})\n",
    "    pyplot.xlabel('Mean Intensity')\n",
    "    pyplot.ylabel('Number of Cells')\n",
    "    pyplot.grid(True, zorder=0)\n",
    "    pyplot.tight_layout()\n",
    "    \n",
    "    histogram_outname = (str(title_name[0]) + \"_histogram\")\n",
    "    pyplot.savefig(os.path.join(StatsCharts_ImageFile_path, histogram_outname), dpi=300)\n",
    "    \n",
    "    pyplot.close()\n",
    "\n",
    "# Defining function to make Probability Plots\n",
    "def probplot_maker():\n",
    "    df = pd.read_csv(csvfile).dropna(axis = 0)\n",
    "    prob_plot = stats.probplot(df[\"Mean\"], dist=\"norm\", plot=pylab)\n",
    "    \n",
    "    title_name = os.path.splitext(csvfile)\n",
    "    pylab.title(title_name[0], fontdict={'fontweight': 'bold'})\n",
    "    pylab.ylabel('Mean Intensity Ordered Values')\n",
    "    pylab.grid(False)\n",
    "    pylab.tight_layout()\n",
    "    \n",
    "    probplot_outname = (str(title_name[0]) + \"_probplot\")\n",
    "    pylab.savefig(os.path.join(StatsCharts_ImageFile_path, probplot_outname), dpi=300)\n",
    "    \n",
    "    pylab.close()\n",
    "\n",
    "print(\"Done\")"
   ]
  },
  {
   "cell_type": "markdown",
   "id": "e9515523",
   "metadata": {},
   "source": [
    "### Creating appended CSVs for later Violin plotting\n",
    "\n",
    "This cell must be run before statistics even if Violins will not be created."
   ]
  },
  {
   "cell_type": "code",
   "execution_count": 9,
   "id": "c15415b2",
   "metadata": {
    "scrolled": true
   },
   "outputs": [
    {
     "name": "stdout",
     "output_type": "stream",
     "text": [
      "Done\n"
     ]
    }
   ],
   "source": [
    "# Creating folder to contain files with appended CSVs for later Violin plots\n",
    "appended_csv_directory = \"Appended_CSVs\"\n",
    "appended_csv_path = os.path.join(file_path, appended_csv_directory)\n",
    "try:\n",
    "    os.mkdir(appended_csv_path)\n",
    "except (FileExistsError):\n",
    "    pass\n",
    "\n",
    "# Initializing array of headers for Appended .csv outfiles\n",
    "appended_headers = ['ROI', 'Area', 'Mean_Intensity', 'Min', 'Max', 'IntDen', \n",
    "                    'RawIntDen', 'Animal', 'Innervation', 'Hours_Post_Denerv']\n",
    "\n",
    "# Defining function to make Appended CSVs\n",
    "def append_CSVs(filename, animal_number, innervation, hours_post_denerv):\n",
    "    csv_split = os.path.splitext(filename)\n",
    "    outcsv_name = str(csv_split[0] + \"_Appended.csv\")\n",
    "    csv_toDirectory = os.path.join(appended_csv_path, outcsv_name)\n",
    "    \n",
    "    # Opening outfile with defined name \n",
    "    with open(csv_toDirectory, 'w', newline='') as outfile:\n",
    "        csv_writer = writer(outfile, delimiter=',')\n",
    "        csv_writer.writerow(appended_headers)\n",
    "        \n",
    "        # Using current file as infile\n",
    "        with open(csvfile, 'r') as infile:\n",
    "            csv_reader = reader(infile)\n",
    "            next(csv_reader, None)\n",
    "            \n",
    "            # Writing row-by-row to outfile\n",
    "            for row in csv_reader:\n",
    "                row.append(animal_number)\n",
    "                row.append(innervation)\n",
    "                row.append(hours_post_denerv)\n",
    "                csv_writer.writerow(row)\n",
    "\n",
    "print(\"Done\")"
   ]
  },
  {
   "cell_type": "markdown",
   "id": "5d0ba538",
   "metadata": {},
   "source": [
    "## Calculating statistics"
   ]
  },
  {
   "cell_type": "code",
   "execution_count": 10,
   "id": "d5b79f54",
   "metadata": {},
   "outputs": [
    {
     "name": "stdout",
     "output_type": "stream",
     "text": [
      "Done\n"
     ]
    }
   ],
   "source": [
    "# Importing necessary package\n",
    "from scipy import stats\n",
    "\n",
    "# Defining function to run statistics\n",
    "def stats_calc(csvfile):\n",
    "    with open(csvfile, 'r') as infile:\n",
    "        df = pd.read_csv(infile, usecols=['Mean']).dropna(axis=0)\n",
    "        \n",
    "        # Counting # of rows in .csv, corresponds to ROI#\n",
    "        ROI_count = len(df.axes[0])\n",
    "        \n",
    "        # Calculating mean, median, std. deviation\n",
    "        mean = df.mean()\n",
    "        median = df.median()\n",
    "        stddev = df.std()\n",
    "        \n",
    "        # Shapiro-Wilk tests\n",
    "        shapiro_stat, shapiro_p = stats.shapiro(df[\"Mean\"])\n",
    "        \n",
    "        return(int(ROI_count), float(\"%.2f\"%mean), float(\"%.2f\"%median), float(\"%.2f\"%stddev),\n",
    "               float(\"%.2f\"%shapiro_stat), float(\"%.2e\"%shapiro_p))\n",
    "\n",
    "print(\"Done\")"
   ]
  },
  {
   "cell_type": "markdown",
   "id": "90a01286",
   "metadata": {},
   "source": [
    "#### Defining function to write statistics to Statistics_DDMMYY.xlsx outfile"
   ]
  },
  {
   "cell_type": "code",
   "execution_count": 11,
   "id": "68d6e2a4",
   "metadata": {},
   "outputs": [
    {
     "name": "stdout",
     "output_type": "stream",
     "text": [
      "Done\n"
     ]
    }
   ],
   "source": [
    "# Loops through stats_calc results and writes to sequential columns\n",
    "def stats_writer(result):\n",
    "    excel_outfile_statsheet.write_number(statsRowCounter, 1, int(a), general_format)\n",
    "    excel_outfile_statsheet.write_string(statsRowCounter, 2, innervation, innervation_format)\n",
    "    # The column '3' write-out is missing on purpose here\n",
    "    excel_outfile_statsheet.write_number(statsRowCounter, 4, result[0], count_format)\n",
    "    excel_outfile_statsheet.write_number(statsRowCounter, 5, result[1], stat_format)\n",
    "    excel_outfile_statsheet.write_number(statsRowCounter, 6, result[2], stat_format)\n",
    "    excel_outfile_statsheet.write_number(statsRowCounter, 7, result[3], stat_format)\n",
    "    excel_outfile_statsheet.write_number(statsRowCounter, 8, result[4], stat_format)\n",
    "    \n",
    "    # Formatting p-value output based on significance\n",
    "    if result[5] < 0.05:\n",
    "        excel_outfile_statsheet.write_number(statsRowCounter, 9, result[5], p_insignif)\n",
    "    else:\n",
    "        excel_outfile_statsheet.write_number(statsRowCounter, 9, result[5], p_signif)\n",
    "\n",
    "print(\"Done\")"
   ]
  },
  {
   "cell_type": "markdown",
   "id": "0db50b57",
   "metadata": {},
   "source": [
    "## Main Statistics cell"
   ]
  },
  {
   "cell_type": "code",
   "execution_count": 12,
   "id": "305470df",
   "metadata": {},
   "outputs": [
    {
     "name": "stdout",
     "output_type": "stream",
     "text": [
      "Done\n"
     ]
    }
   ],
   "source": [
    "# Initializing list to contain animal numbers for later ratio table\n",
    "# Maintains sort (10, 11, ..., n, 1, 2, ...) rather than (1, 2, 3, ..., n)\n",
    "animal_numbers = list()\n",
    "\n",
    "# Initializing list to contain values for later writing to Ratios, Mann-Whitney table\n",
    "# Maintains sorting in order (10, 11, ..., n, 1, 2,...) rather than (1, 2, 3,..., n)\n",
    "post_denervs = list()\n",
    "\n",
    "# Initializing lists to contain dataframes and means for later Mann-Whitney tests\n",
    "# and ratio table population\n",
    "MW_Is=[]\n",
    "I_means=list()\n",
    "\n",
    "MW_Ds=[]\n",
    "D_means=list()\n",
    "\n",
    "# Adjusting cell bottom border \n",
    "general_format.set_bottom(1)\n",
    "\n",
    "# Initializing row counter to add data row by row starting after header row\n",
    "statsRowCounter = 2\n",
    "\n",
    "# Loops through all #_Condition_DDMMYY.csv files in file_path\n",
    "for csvfile in sorted(all_files):\n",
    "    \n",
    "    filename = csvfile.name\n",
    "    \n",
    "    # Creating dataframe from file and dropping NaNs\n",
    "    df = pd.read_csv(csvfile).dropna(axis=0)\n",
    "    \n",
    "    # Creating ProbPlots and saving to Histogram&ProbPlot folder\n",
    "    probplot_maker()\n",
    "    \n",
    "    # Creating Histograms and saving to Histogram&ProbPlot folder\n",
    "    histogram_maker()\n",
    "    \n",
    "    for a in animals:\n",
    "        # defining for later appending to output .csv\n",
    "        animal_number = a\n",
    "        \n",
    "        # Selecting only Innervated files\n",
    "        if filename.startswith(str(a) +'_Innervated_'+DDMMYY):\n",
    "            animal_numbers.append(int(a))\n",
    "            innervation = 'Innervated'\n",
    "            innervated = True\n",
    "            denervated = False\n",
    "            \n",
    "            # Appending file to Mann-Whitney dataframes for later test\n",
    "            MWU_I = pd.read_csv(filename)\n",
    "            MW_Is.append(MWU_I)\n",
    "            \n",
    "            # Calculating stats\n",
    "            results = [stats_calc(csvfile) for filename in range(a)]\n",
    "            \n",
    "            # Looping through innervated files by Hours Post Denervation and writing to appropriate cells\n",
    "            hpd_sort()\n",
    "\n",
    "            # Looping through defined stats lists and writing to appropriate cells\n",
    "            for result in results:\n",
    "                stats_writer(result)\n",
    "            \n",
    "            # Adding calculated mean to I_means list\n",
    "            if innervated is True:    \n",
    "                I_means.append(result[1])\n",
    "            \n",
    "            statsRowCounter += 1\n",
    "\n",
    "        # Repeating pattern for Denervated files\n",
    "        elif filename.startswith(str(a)+'_Denervated_'+DDMMYY):\n",
    "            innervation = 'Denervated'\n",
    "            innervated = False\n",
    "            denervated = True\n",
    "            \n",
    "            # Adding files to Mann-Whitney dataframes for later test\n",
    "            MWU_D = pd.read_csv(filename)\n",
    "            MW_Ds.append(MWU_D)\n",
    "            \n",
    "            results = [stats_calc(csvfile) for filename in range(a)]\n",
    "            \n",
    "            for result in results:\n",
    "                stats_writer(result)\n",
    "            \n",
    "            if denervated is True:    \n",
    "                D_means.append(result[1])\n",
    "            \n",
    "            hpd_sort()\n",
    "            \n",
    "            statsRowCounter += 1\n",
    "            \n",
    "        # Repeating pattern for Uninjured files\n",
    "        # Does not create Mann-Whitney dataframes\n",
    "        elif filename.startswith(str(a)+'_Uninjured_'+DDMMYY):\n",
    "            innervation = 'Uninjured'\n",
    "            innervated = False\n",
    "            denervated = False\n",
    "            \n",
    "            results = [stats_calc(csvfile) for filename in range(a)]\n",
    "            \n",
    "            for result in results:\n",
    "                stats_writer(result)\n",
    "            \n",
    "            hpd_sort()\n",
    "            \n",
    "            statsRowCounter += 1\n",
    "        \n",
    "        # Repeating pattern for Control files\n",
    "        # Does not create Mann-Whitney dataframes\n",
    "        elif filename.startswith(str(a)+'_Control_'+DDMMYY):\n",
    "            innervation = 'Control'\n",
    "            innervated = False\n",
    "            denervated = False\n",
    "            \n",
    "            results = [stats_calc(csvfile) for filename in range(a)]\n",
    "            \n",
    "            for result in results:\n",
    "                stats_writer(result)\n",
    "            \n",
    "            hpd_sort()\n",
    "            \n",
    "            statsRowCounter += 1\n",
    "\n",
    "print(\"Done\")"
   ]
  },
  {
   "cell_type": "markdown",
   "id": "5d38d3f5",
   "metadata": {},
   "source": [
    "### Creating and populating ratio and Mann-Whitney table"
   ]
  },
  {
   "cell_type": "markdown",
   "id": "b67e40b5",
   "metadata": {},
   "source": [
    "#### Formatting table headers"
   ]
  },
  {
   "cell_type": "code",
   "execution_count": 13,
   "id": "9310b95d",
   "metadata": {},
   "outputs": [
    {
     "name": "stdout",
     "output_type": "stream",
     "text": [
      "Done\n"
     ]
    }
   ],
   "source": [
    "# Merging cells for Mann-Whitney header\n",
    "excel_outfile_statsheet.merge_range(statsRowCounter+1, 6, statsRowCounter+1, 7, \"Mann Whitney\", merge_format)\n",
    "\n",
    "# Creating counters for row and column progression\n",
    "# ratioRowCounter positions the ratio table 2 cells below main stats table\n",
    "ratioRowCounter = int(statsRowCounter) + 2\n",
    "ratioColumnCounter = 3\n",
    "\n",
    "# Initializing list of ratio table headers\n",
    "ratioHeaders = ['Animal', 'Hours Post Denerv', 'Ratio', 'MW U', 'MW Pvalue']\n",
    "\n",
    "# Writing each header to ratio table\n",
    "for ratioHeader in ratioHeaders:\n",
    "    excel_outfile_statsheet.write(ratioRowCounter, ratioColumnCounter, ratioHeader, general_format)\n",
    "    ratioColumnCounter += 1\n",
    "    \n",
    "print(\"Done\")"
   ]
  },
  {
   "cell_type": "markdown",
   "id": "38472ebe",
   "metadata": {},
   "source": [
    "### Calculating ratios to populate table\n",
    "\n",
    "In order for this cell to function, first run the main statistics cell to calculate means."
   ]
  },
  {
   "cell_type": "code",
   "execution_count": 14,
   "id": "6040a408",
   "metadata": {},
   "outputs": [
    {
     "name": "stdout",
     "output_type": "stream",
     "text": [
      "Done\n"
     ]
    }
   ],
   "source": [
    "# Initializing list to contain calculated ratios\n",
    "ratios = list()\n",
    "\n",
    "# Looping through previously calculated means and pairing Innerv to Denerv by animal\n",
    "# Calculating I:D Mean Intensity ratio and adding to ratios list\n",
    "for I_mean, D_mean in list(zip(I_means, D_means)):\n",
    "    mean_ratio = int(I_mean) / int(D_mean)\n",
    "    ratios.append(mean_ratio)\n",
    "    \n",
    "print(\"Done\")"
   ]
  },
  {
   "cell_type": "markdown",
   "id": "ef49b7f3",
   "metadata": {},
   "source": [
    "### Populating ratio table with ratios and Mann-Whitney results\n",
    "\n",
    "The main statistics cells and ratio calculating cell have to be run before this one."
   ]
  },
  {
   "cell_type": "code",
   "execution_count": 15,
   "id": "f95d3e3f",
   "metadata": {},
   "outputs": [
    {
     "name": "stdout",
     "output_type": "stream",
     "text": [
      "Done\n"
     ]
    }
   ],
   "source": [
    "# Pairing data and M-W dataframes to appropriate animal\n",
    "# Running Mann-Whitney tests by animal\n",
    "# Writing data to formatted Ratio table\n",
    "\n",
    "# Creating conditional formatting for ratios\n",
    "ratio_good = excel_outfile.add_format({'align': 'center', 'border': 1, 'num_format': 2, 'bg_color': '#D9FFB3'})\n",
    "ratio_bad = excel_outfile.add_format({'align': 'center', 'border': 1, 'num_format': 2, 'bg_color': '#F08080'})\n",
    "\n",
    "# Updating ratioRowCounter to begin adding data after header row\n",
    "ratioRowCounter += 1\n",
    "\n",
    "# Updating ratioColumnCounter to begin adding data in column 3\n",
    "ratioColumnCounter = 3\n",
    "\n",
    "# Looping through stats to write to formatted table in .xlsx outfile\n",
    "for animal, hour, ratio, MW_I, MW_D in list(zip(animal_numbers, post_denervs, ratios, MW_Is, MW_Ds)):\n",
    "    # Running Mann-Whitney test by Innervated:Denervated data\n",
    "    MW_U, MW_pvalue = stats.mannwhitneyu(MW_I['Mean'], MW_D['Mean'], alternative=\"greater\")\n",
    "    general_format.set_bottom(1)\n",
    "    \n",
    "    # Writing animals and hours post denervation to table\n",
    "    excel_outfile_statsheet.write(ratioRowCounter, ratioColumnCounter, int(animal), general_format)\n",
    "    excel_outfile_statsheet.write(ratioRowCounter, ratioColumnCounter + 1, int(hour), innervation_format)\n",
    "    \n",
    "    # Writing ratios and formatting based on value\n",
    "    if ratio > 1.00:\n",
    "        excel_outfile_statsheet.write(ratioRowCounter, ratioColumnCounter + 2, ratio, ratio_good)\n",
    "    else:\n",
    "        excel_outfile_statsheet.write(ratioRowCounter, ratioColumnCounter + 2, ratio, ratio_bad)\n",
    "    \n",
    "    # Writing Mann-Whitney U value\n",
    "    excel_outfile_statsheet.write(ratioRowCounter, ratioColumnCounter + 3, MW_U, stat_format)\n",
    "    \n",
    "    # Writing Mann-Whitney p value and formatting based on significance\n",
    "    if MW_pvalue <= 0.05:\n",
    "        excel_outfile_statsheet.write(ratioRowCounter, ratioColumnCounter + 4, MW_pvalue, p_signif)\n",
    "    else:\n",
    "        excel_outfile_statsheet.write(ratioRowCounter, ratioColumnCounter + 4, MW_pvalue, p_insignif)\n",
    "    \n",
    "    ratioRowCounter += 1\n",
    "    \n",
    "print(\"Done\")"
   ]
  },
  {
   "cell_type": "markdown",
   "id": "e9bc5fb3",
   "metadata": {},
   "source": [
    "# Ratio Scatterplot\n",
    "\n",
    "This cell can be deleted, no scatterplot will be created."
   ]
  },
  {
   "cell_type": "code",
   "execution_count": 16,
   "id": "1c08f2f1",
   "metadata": {},
   "outputs": [
    {
     "name": "stdout",
     "output_type": "stream",
     "text": [
      "Done\n"
     ]
    }
   ],
   "source": [
    "# Creating new worksheet to contain scatterplot\n",
    "try:\n",
    "    ratio_plotsheet = excel_outfile.add_chartsheet('Ratio Scatterplot')\n",
    "except (xlsxwriter.exceptions.DuplicateWorksheetName):\n",
    "    pass\n",
    "\n",
    "# Initializing scatterplot to populate worksheet\n",
    "ratio_scatterplot = excel_outfile.add_chart({'type': 'scatter'})\n",
    "\n",
    "# Formatting scatterplot and populating with ratios from Statistics worksheet\n",
    "ratio_scatterplot.set_title({'name': 'Innervated:Denervated Mean Intensity Ratios', \n",
    "                             'name_font': {'name': 'Arial', 'size': 16, 'bold': True}\n",
    "                            })\n",
    "ratio_scatterplot.set_x_axis({'name': 'Hours Post Denervation', \n",
    "                              'name_font': {'name': 'Arial', 'size': 12, 'bold': True}\n",
    "                             })\n",
    "ratio_scatterplot.set_y_axis({'name': 'Ratio with Std. Error', 'name_font': {'name': 'Arial',\n",
    "                                                            'size': 12, 'bold': True}\n",
    "                             })\n",
    "ratio_scatterplot.add_series({'categories': ['Statistics', int(statsRowCounter) + 3, 4, \n",
    "                                             int(statsRowCounter)+ 3 + len(animals), 4], \n",
    "                              'values': ['Statistics', int(statsRowCounter) + 3, 5, \n",
    "                                         int(statsRowCounter) + 3 + len(animals), 5], 'name': 'Ratio', \n",
    "                              'y_error_bars': {'type': 'standard_error'}, \n",
    "                              'data_labels': {'value': True, 'position': 'right'},\n",
    "                              'trendline': {'type': 'polynomial', 'order': 3}\n",
    "                             })\n",
    "ratio_scatterplot.set_legend({'none': True})\n",
    "\n",
    "# Committing scatterplot to worksheet\n",
    "ratio_plotsheet.set_chart(ratio_scatterplot)\n",
    "\n",
    "print(\"Done\")"
   ]
  },
  {
   "cell_type": "markdown",
   "id": "d8972cc2",
   "metadata": {},
   "source": [
    "# Histograms and Probability Plots"
   ]
  },
  {
   "cell_type": "markdown",
   "id": "6d8cbfa4",
   "metadata": {},
   "source": [
    "### Sorting plot files\n",
    "\n",
    "This cell can be deleted if not using Histograms or Probability Plots."
   ]
  },
  {
   "cell_type": "code",
   "execution_count": 17,
   "id": "6ecbd005",
   "metadata": {},
   "outputs": [
    {
     "name": "stdout",
     "output_type": "stream",
     "text": [
      "Done\n"
     ]
    }
   ],
   "source": [
    "# Initializing lists to contain Histogram and ProbPlot .png files\n",
    "I_probplot_files = list()\n",
    "I_histogram_files = list()\n",
    "\n",
    "D_probplot_files = list()\n",
    "D_histogram_files = list()\n",
    "\n",
    "U_probplot_files = list()\n",
    "U_histogram_files = list()\n",
    "\n",
    "C_probplot_files = list()\n",
    "C_histogram_files = list()\n",
    "\n",
    "# Appending image files to appropriate list\n",
    "for imagefile in Path(StatsCharts_ImageFile_path).iterdir():\n",
    "    imagefile_name = imagefile.name\n",
    "    \n",
    "    if imagefile_name.endswith('Innervated_'+DDMMYY+'_probplot.png'):\n",
    "        I_probplot_files.append(imagefile)\n",
    "    elif imagefile_name.endswith('Innervated_'+DDMMYY+'_histogram.png'): \n",
    "        I_histogram_files.append(imagefile)\n",
    "    elif imagefile_name.endswith('Denervated_'+DDMMYY+'_probplot.png'):\n",
    "        D_probplot_files.append(imagefile)\n",
    "    elif imagefile_name.endswith('Denervated_'+DDMMYY+'_histogram.png'): \n",
    "        D_histogram_files.append(imagefile)\n",
    "    elif imagefile_name.endswith('Uninjured_'+DDMMYY+'_probplot.png'):\n",
    "        U_probplot_files.append(imagefile)\n",
    "    elif imagefile_name.endswith('Uninjured_'+DDMMYY+'_histogram.png'): \n",
    "        U_histogram_files.append(imagefile)\n",
    "    elif imagefile_name.endswith('Control_'+DDMMYY+'_probplot.png'):\n",
    "        C_probplot_files.append(imagefile)\n",
    "    elif imagefile_name.endswith('Control_'+DDMMYY+'_histogram.png'): \n",
    "        C_histogram_files.append(imagefile)\n",
    "        \n",
    "print(\"Done\")"
   ]
  },
  {
   "cell_type": "markdown",
   "id": "a773df7f",
   "metadata": {},
   "source": [
    "### Adding plots to outfile worksheet\n",
    "\n",
    "This cell can be deleted if not using Histograms or Probability Plots. "
   ]
  },
  {
   "cell_type": "code",
   "execution_count": 18,
   "id": "067f56df",
   "metadata": {},
   "outputs": [
    {
     "name": "stdout",
     "output_type": "stream",
     "text": [
      "Done\n"
     ]
    }
   ],
   "source": [
    "# Creating sheet to contain Histograms + ProbPlots\n",
    "excel_outfile_chartsheet = excel_outfile.add_worksheet(\"Histograms_ProbPlots\")\n",
    "excel_outfile_chartsheet.hide_gridlines(2)\n",
    "\n",
    "# Initializing lists for image adding\n",
    "row_count = 0\n",
    "column_count = 0\n",
    "\n",
    "# Adding Innervated files to first two columns of images\n",
    "for I_probplot_file, I_histogram_file in zip(sorted(I_probplot_files), sorted(I_histogram_files)):\n",
    "    excel_outfile_chartsheet.insert_image(row_count, column_count, I_probplot_file)\n",
    "    column_count += 9\n",
    "    \n",
    "    excel_outfile_chartsheet.insert_image(row_count, column_count, I_histogram_file)\n",
    "    row_count += 19\n",
    "    column_count -= 9\n",
    "\n",
    "# Resetting to top row but moving right to begin new 2 image columns\n",
    "row_count = 0\n",
    "column_count += 18\n",
    "\n",
    "# Repeating pattern over Denervated files\n",
    "for D_probplot_file, D_histogram_file in zip(sorted(D_probplot_files), sorted(D_histogram_files)):\n",
    "    excel_outfile_chartsheet.insert_image(row_count, column_count, D_probplot_file)\n",
    "    column_count += 9\n",
    "    \n",
    "    excel_outfile_chartsheet.insert_image(row_count, column_count, D_histogram_file)\n",
    "    row_count += 19\n",
    "    column_count -= 9\n",
    "\n",
    "row_count = 0\n",
    "column_count += 18\n",
    "\n",
    "# Repeating pattern over Uninjured files\n",
    "for U_probplot_file, U_histogram_file in zip(sorted(U_probplot_files), sorted(U_histogram_files)):\n",
    "    excel_outfile_chartsheet.insert_image(row_count, column_count, U_probplot_file)\n",
    "    column_count += 9\n",
    "    \n",
    "    excel_outfile_chartsheet.insert_image(row_count, column_count, U_histogram_file)\n",
    "    row_count += 19\n",
    "    column_count -= 9\n",
    "\n",
    "row_count = 0\n",
    "column_count += 18\n",
    "\n",
    "# Repeating pattern over Neg. Ctrl files\n",
    "for C_probplot_file, C_histogram_file in zip(sorted(C_probplot_files), sorted(C_histogram_files)):\n",
    "    excel_outfile_chartsheet.insert_image(row_count, column_count, C_probplot_file)\n",
    "    column_count += 9\n",
    "    \n",
    "    excel_outfile_chartsheet.insert_image(row_count, column_count, C_histogram_file)\n",
    "    row_count += 19\n",
    "    column_count -= 9\n",
    "\n",
    "print(\"Done\")"
   ]
  },
  {
   "cell_type": "markdown",
   "id": "2abfa1df",
   "metadata": {},
   "source": [
    "# Violin Plots\n",
    "\n",
    "All of these cells can be deleted if you don't want Violin plots. "
   ]
  },
  {
   "cell_type": "markdown",
   "id": "614220ea",
   "metadata": {},
   "source": [
    "### Initializing dataframes for plotting\n",
    "\n",
    "Run this even if only using one violin plotting program."
   ]
  },
  {
   "cell_type": "code",
   "execution_count": 19,
   "id": "c31a4328",
   "metadata": {},
   "outputs": [
    {
     "name": "stdout",
     "output_type": "stream",
     "text": [
      "Done\n"
     ]
    }
   ],
   "source": [
    "# Initializing empty dataframes to contain data as necessary for violins\n",
    "\n",
    "all_traces= []\n",
    "\n",
    "all_innervated= []\n",
    "all_denervated= []\n",
    "all_uninjured= []\n",
    "all_control= []\n",
    "\n",
    "uninjured_comparisons= []\n",
    "innervation_split= []\n",
    "\n",
    "# Initializing file lists for Plotly and Seaborn parsing\n",
    "appended_files = list()\n",
    "plotly_files= list()\n",
    "seaborn_files= list()\n",
    "\n",
    "# Adding .csvs to each list for later plotting\n",
    "for appended_csv in Path(appended_csv_path).iterdir():\n",
    "    plotly_files.append(appended_csv)\n",
    "    seaborn_files.append(appended_csv)\n",
    "    appended_files.append(appended_csv)\n",
    "    \n",
    "print(\"Done\")"
   ]
  },
  {
   "cell_type": "markdown",
   "id": "8ce4f99a",
   "metadata": {},
   "source": [
    "### Sorting files to appropriate dataframes\n",
    "\n",
    "Run the next **three** cells even if only using one plotting program."
   ]
  },
  {
   "cell_type": "code",
   "execution_count": 20,
   "id": "5abdc0e5",
   "metadata": {},
   "outputs": [
    {
     "name": "stdout",
     "output_type": "stream",
     "text": [
      "Done\n"
     ]
    }
   ],
   "source": [
    "# Initializing dictionaries to contain dataframes by hours post denervation\n",
    "# Will concatenate dataframes independent of actual values in hpd\n",
    "\n",
    "hpd_dfs={}\n",
    "hpd_concats={}\n",
    "\n",
    "# Initializing separate lists from hpd to use later, because\n",
    "#   hpd is consumed in the next for loop.\n",
    "plotly_hours=list()\n",
    "seaborn_hours=list()\n",
    "\n",
    "# Setting each hpd as hpd_dfs key\n",
    "for h in hpd:\n",
    "    hpd_dfs[h] = []\n",
    "    plotly_hours.append(h)\n",
    "    seaborn_hours.append(h)\n",
    "\n",
    "# Defining keys to use in later functions\n",
    "keys=list(hpd_dfs.keys())\n",
    "\n",
    "print('Done')"
   ]
  },
  {
   "cell_type": "code",
   "execution_count": 21,
   "id": "b8d45451",
   "metadata": {},
   "outputs": [
    {
     "name": "stdout",
     "output_type": "stream",
     "text": [
      "Done\n"
     ]
    }
   ],
   "source": [
    "# Appends to appropriate data frames for later plotting\n",
    "for appended_file in sorted(appended_files):\n",
    "    csv_name = appended_file.name\n",
    "    df = pd.read_csv(appended_file)\n",
    "    for a in animals:\n",
    "        if csv_name.startswith(str(a) + '_Innervated_'+DDMMYY+'_Appended'):\n",
    "            all_innervated.append(df)\n",
    "            all_traces.append(df)\n",
    "            innervation_split.append(df)\n",
    "            violin_df_sort(df)\n",
    "            \n",
    "        elif csv_name.startswith(str(a) + '_Denervated_'+DDMMYY+'_Appended'):\n",
    "            all_denervated.append(df)\n",
    "            all_traces.append(df)\n",
    "            innervation_split.append(df)\n",
    "            violin_df_sort(df)\n",
    "\n",
    "        elif csv_name.startswith(str(a) + '_Uninjured_'+DDMMYY+'_Appended'):\n",
    "            all_uninjured.append(df)\n",
    "            all_traces.append(df)\n",
    "            violin_df_sort(df)\n",
    "            \n",
    "        elif csv_name.startswith(str(a) + '_Control_'+DDMMYY+'_Appended'):\n",
    "            all_control.append(df)\n",
    "            all_traces.append(df)\n",
    "            violin_df_sort(df)\n",
    "\n",
    "# Concatenating dataframes sorted above\n",
    "try:\n",
    "    all_traces = pd.concat(all_traces, ignore_index=True)\n",
    "except (ValueError):\n",
    "    pass\n",
    "\n",
    "try:\n",
    "    all_innervated = pd.concat(all_innervated, ignore_index=True)\n",
    "except (ValueError):\n",
    "    pass\n",
    "\n",
    "try:\n",
    "    all_denervated = pd.concat(all_denervated, ignore_index=True)\n",
    "except (ValueError):\n",
    "    pass\n",
    "\n",
    "try:\n",
    "    all_uninjured = pd.concat(all_uninjured, ignore_index=True)\n",
    "    uninjured_exist = True\n",
    "except (ValueError):\n",
    "    uninjured_exist=False\n",
    "    pass\n",
    "\n",
    "try:\n",
    "    all_control=pd.concat(all_control, ignore_index=True)\n",
    "    control_exist=True\n",
    "except (ValueError):\n",
    "    control_exist=False\n",
    "    pass\n",
    "\n",
    "try:\n",
    "    uninjured_comparison = pd.concat(uninjured_comparisons, ignore_index=True)\n",
    "    uninjureds_exist=True\n",
    "except (ValueError):\n",
    "    uninjureds_exist=False\n",
    "    pass\n",
    "\n",
    "try:\n",
    "    innervation_split = pd.concat(innervation_split, ignore_index=True)\n",
    "except:\n",
    "    pass\n",
    "\n",
    "print(\"Done\")"
   ]
  },
  {
   "cell_type": "code",
   "execution_count": 22,
   "id": "0af4b46b",
   "metadata": {},
   "outputs": [
    {
     "name": "stdout",
     "output_type": "stream",
     "text": [
      "Done\n"
     ]
    }
   ],
   "source": [
    "# Concatenating dataframes based on hpd\n",
    "# Appending [ key : concatenated dataframe] to hpd_concats dict.\n",
    "for key, values in hpd_dfs.items():\n",
    "    df_out = pd.concat(values, ignore_index=True)\n",
    "    hpd_concats[key] = []\n",
    "    hpd_concats[key].append(df_out)\n",
    "\n",
    "print('Done')"
   ]
  },
  {
   "cell_type": "markdown",
   "id": "4fab4d4f",
   "metadata": {},
   "source": [
    "## Plotly Violins\n",
    "\n",
    "All of these cells can be deleted if you don't want any Plotly violins.\n",
    "Individual cells can be deleted depending on what violins you do want."
   ]
  },
  {
   "cell_type": "code",
   "execution_count": 24,
   "id": "fb305211",
   "metadata": {},
   "outputs": [
    {
     "name": "stdout",
     "output_type": "stream",
     "text": [
      "Done\n"
     ]
    }
   ],
   "source": [
    "# Importing necessary packages\n",
    "import plotly.graph_objects as go\n",
    "import plotly.express as px\n",
    "\n",
    "# Initializing directories to contain Plotly static violins\n",
    "plotly_violin_directory = \"Plotly_PNGs\"\n",
    "plotly_path = os.path.join(file_path, plotly_violin_directory)\n",
    "try:\n",
    "    os.mkdir(plotly_path)\n",
    "except (FileExistsError):\n",
    "    pass\n",
    "\n",
    "# Initializing directories to contain Plotly interactive violins\n",
    "plotly_html_directory = \"Plotly_HTMLs\"\n",
    "html_path = os.path.join(file_path, plotly_html_directory)\n",
    "try:\n",
    "    os.mkdir(html_path)\n",
    "except (FileExistsError):\n",
    "    pass\n",
    "\n",
    "print(\"Done\")"
   ]
  },
  {
   "cell_type": "markdown",
   "id": "1ed68b6a",
   "metadata": {},
   "source": [
    "#### Violins by hours post denerv condition\n",
    "\n",
    "This cell can be deleted."
   ]
  },
  {
   "cell_type": "code",
   "execution_count": 26,
   "id": "f922dcff",
   "metadata": {},
   "outputs": [
    {
     "name": "stdout",
     "output_type": "stream",
     "text": [
      "Done\n"
     ]
    }
   ],
   "source": [
    "# Defining the function to make each violin\n",
    "def hpd_plotly_violin(key, df):\n",
    "    comparison = go.Figure()\n",
    "    comparison.add_trace(go.Violin(x=df['Animal'][ df['Innervation'] == 'Innervated' ],\n",
    "                        y=df['Mean_Intensity'][ df['Innervation'] == 'Innervated' ],\n",
    "                        legendgroup='Innervated', scalegroup='Innervated', name='In',\n",
    "                        side='negative',\n",
    "                        line_color='rgb(136, 204, 238)')\n",
    "             )\n",
    "    comparison.add_trace(go.Violin(x=df['Animal'][ df['Innervation'] == 'Denervated' ],\n",
    "                        y=df['Mean_Intensity'][ df['Innervation'] == 'Denervated' ],\n",
    "                        legendgroup='Denervated', scalegroup='Denervated', name='De',\n",
    "                        side='positive',\n",
    "                        line_color='rgb(221, 204, 119)')\n",
    "             )\n",
    "    comparison.update_traces(box_visible=True, meanline_visible=True, \n",
    "                              points='outliers')\n",
    "    comparison.update_yaxes(title_text='Mean Intensity')\n",
    "    comparison.update_xaxes(title_text='Animal')\n",
    "    comparison.update_layout(title_text=str(key)+' Hours Post Denerv',\n",
    "                                     violingap=0, violinmode='overlay', yaxis_range=[-5000, 65000])\n",
    "    comparison.write_image('Plotly_PNGs/'+str(key)+'hpd_Animals.png')\n",
    "    comparison.write_html('Plotly_HTMLs/'+str(key)+'hpd_Animals.html')\n",
    "\n",
    "# Looping through dictionary of concatenated dataframes and creating violin\n",
    "for key, values in hpd_concats.items():\n",
    "    df = values[0]\n",
    "    hpd_plotly_violin(key, df)\n",
    "\n",
    "print('Done')"
   ]
  },
  {
   "cell_type": "markdown",
   "id": "c77a39a6",
   "metadata": {},
   "source": [
    "#### Individual violin plots\n",
    "\n",
    "This cell can be deleted."
   ]
  },
  {
   "cell_type": "code",
   "execution_count": 27,
   "id": "71e60752",
   "metadata": {},
   "outputs": [
    {
     "name": "stdout",
     "output_type": "stream",
     "text": [
      "Done\n"
     ]
    }
   ],
   "source": [
    "# Defining function to create individual Plotly static and interactive violins\n",
    "def individual_plotly_violin(df, innervation):\n",
    "    violin1 = px.violin(df, y=\"Mean_Intensity\", x=\"Animal\", box=True, points='all')\n",
    "    violin1.update_layout(title_text=str(a)+ \" \" + innervation, yaxis_range=[-5000, 65000])\n",
    "    violin1.update_traces(meanline_visible=True)\n",
    "    violin1.write_image(\"Plotly_PNGs/\" + str(a)+ \"_\" + innervation + \".png\")\n",
    "    violin1.write_html(\"Plotly_HTMLs/\" + str(a)+ \"_\" + innervation + \".html\")\n",
    "\n",
    "# Creating individual Plotly static and interactive violins\n",
    "for plotly_file in sorted(plotly_files):\n",
    "    csv_name = plotly_file.name\n",
    "    df = pd.read_csv(plotly_file)\n",
    "    for a in animals:\n",
    "        if csv_name.startswith(str(a) + '_Innervated_'+DDMMYY+'_Appended'):            \n",
    "            innervation = 'Innervated'\n",
    "            individual_plotly_violin(df, innervation)\n",
    "            \n",
    "        elif csv_name.startswith(str(a) + '_Denervated_'+DDMMYY+'_Appended'):\n",
    "            innervation = \"Denervated\"\n",
    "            individual_plotly_violin(df, innervation)\n",
    "\n",
    "        elif csv_name.startswith(str(a) + '_Uninjured_'+DDMMYY+'_Appended'):\n",
    "            innervation = \"Uninjured\"\n",
    "            individual_plotly_violin(df, innervation)\n",
    "            \n",
    "        elif csv_name.startswith(str(a) + '_Control_'+DDMMYY+'_Appended'):\n",
    "            innervation = \"Control\"\n",
    "            individual_plotly_violin(df, innervation)\n",
    "\n",
    "print(\"Done\")"
   ]
  },
  {
   "cell_type": "markdown",
   "id": "706bcb51",
   "metadata": {},
   "source": [
    "#### Violins by Innervation\n",
    "\n",
    "This cell can be deleted."
   ]
  },
  {
   "cell_type": "code",
   "execution_count": 28,
   "id": "dd46525a",
   "metadata": {},
   "outputs": [
    {
     "name": "stdout",
     "output_type": "stream",
     "text": [
      "Done\n"
     ]
    }
   ],
   "source": [
    "# Creating Plotly violins for each Innervation by Animal\n",
    "\n",
    "# Innervated\n",
    "try:\n",
    "    plotly_innervated = px.violin(all_innervated, y=\"Mean_Intensity\", x=\"Animal\", \n",
    "                              color=\"Animal\", box=True, points=\"outliers\",\n",
    "                              hover_data=all_innervated.columns,\n",
    "                              color_discrete_sequence=px.colors.qualitative.Safe\n",
    "                             )\n",
    "\n",
    "    plotly_innervated.update_layout(title_text=\"All Innervated\", yaxis_range=[-5000, 65000])\n",
    "    plotly_innervated.update_traces(width=0.75, meanline_visible=True)\n",
    "    plotly_innervated.update_yaxes(title_text='Mean Intensity')\n",
    "    plotly_innervated.update_xaxes(title_text='Animal', tick0=1, dtick=1)\n",
    "    plotly_innervated.write_image(\"Plotly_PNGs/All_Innervated.png\")\n",
    "    plotly_innervated.write_html(\"Plotly_HTMLs/All_Innervated.html\")\n",
    "\n",
    "except (AttributeError) or (ValueError):\n",
    "    pass\n",
    "\n",
    "# Denervated\n",
    "try:\n",
    "    plotly_denervated = px.violin(all_denervated, y=\"Mean_Intensity\", x=\"Animal\", \n",
    "                              color=\"Animal\", box=True, points=\"outliers\",\n",
    "                              hover_data=all_denervated.columns,\n",
    "                             color_discrete_sequence=px.colors.qualitative.Safe)\n",
    "\n",
    "    plotly_denervated.update_layout(title_text=\"All Denervated\", yaxis_range=[-5000, 65000])\n",
    "    plotly_denervated.update_traces(width=0.75, meanline_visible=True)\n",
    "    plotly_denervated.update_yaxes(title_text='Mean Intensity')\n",
    "    plotly_denervated.update_xaxes(title_text='Animal', tick0=1, dtick=1)\n",
    "    plotly_denervated.write_image(\"Plotly_PNGs/All_Denervated.png\")\n",
    "    plotly_denervated.write_html(\"Plotly_HTMLs/All_Denervated.html\")\n",
    "\n",
    "except (AttributeError) or (ValueError):\n",
    "    pass\n",
    "\n",
    "# Uninjured\n",
    "try:\n",
    "    plotly_uninjured = px.violin(all_uninjured, y=\"Mean_Intensity\", x=\"Animal\", \n",
    "                              color=\"Animal\", box=True, points=\"outliers\",\n",
    "                              hover_data=all_uninjured.columns,\n",
    "                            color_discrete_sequence=px.colors.qualitative.Safe)\n",
    "\n",
    "    plotly_uninjured.update_layout(title_text=\"All Uninjured\", yaxis_range=[-5000, 65000])\n",
    "    plotly_uninjured.update_traces(width=0.75, meanline_visible=True)\n",
    "    plotly_uninjured.update_yaxes(title_text='Mean Intensity')\n",
    "    plotly_uninjured.write_image(\"Plotly_PNGs/All_Uninjured.png\")\n",
    "    plotly_uninjured.write_html(\"Plotly_HTMLs/All_Uninjured.html\")\n",
    "\n",
    "except (AttributeError) or (ValueError):\n",
    "    pass\n",
    "\n",
    "# Control\n",
    "try:\n",
    "    plotly_control = px.violin(all_control, y=\"Mean_Intensity\", x=\"Animal\", \n",
    "                              color=\"Animal\", box=True, points=\"all\",\n",
    "                              hover_data=all_control.columns,\n",
    "                          color_discrete_sequence=px.colors.qualitative.Safe)\n",
    "\n",
    "    plotly_control.update_layout(title_text=\"Negative Control\", yaxis_range=[-5000, 65000])\n",
    "    plotly_control.update_traces(width=0.75, meanline_visible=True)\n",
    "    plotly_control.update_yaxes(title_text='Mean Intensity')\n",
    "    plotly_control.write_image(\"Plotly_PNGs/Negative_CTRLs.png\")\n",
    "    plotly_control.write_html(\"Plotly_HTMLs/Negative_CTRLs.html\")\n",
    "\n",
    "except (AttributeError) or (ValueError):\n",
    "    pass\n",
    "    \n",
    "print(\"Done\")"
   ]
  },
  {
   "cell_type": "markdown",
   "id": "c55ab6f9",
   "metadata": {},
   "source": [
    "#### Violin for all data\n",
    "\n",
    "This cell can be deleted."
   ]
  },
  {
   "cell_type": "code",
   "execution_count": 29,
   "id": "a1d2d890",
   "metadata": {},
   "outputs": [
    {
     "name": "stdout",
     "output_type": "stream",
     "text": [
      "Done\n"
     ]
    }
   ],
   "source": [
    "# Creating Plotly violin to display all data\n",
    "\n",
    "all_data = go.Figure()\n",
    "\n",
    "try:\n",
    "    all_data.add_trace(go.Violin(x=all_innervated['Animal'][ all_innervated['Innervation'] == 'Innervated' ],\n",
    "                        y=all_innervated['Mean_Intensity'][ all_innervated['Innervation'] == 'Innervated' ],\n",
    "                        legendgroup='Innervated', scalegroup='Innervated', name='In',\n",
    "                        line_color='rgb(136, 204, 238)')\n",
    "             )\n",
    "\n",
    "except (AttributeError) or (ValueError) or (TypeError):\n",
    "    pass\n",
    "\n",
    "try:\n",
    "    all_data.add_trace(go.Violin(x=all_denervated['Animal'][ all_denervated['Innervation'] == 'Denervated' ],\n",
    "                        y=all_denervated['Mean_Intensity'][ all_denervated['Innervation'] == 'Denervated' ],\n",
    "                        legendgroup='Denervated', scalegroup='Denervated', name='De',\n",
    "                        line_color='rgb(221, 204, 119)')\n",
    "             )\n",
    "except (AttributeError) or (ValueError) or (TypeError):\n",
    "    pass\n",
    "\n",
    "if uninjured_exist is True:\n",
    "    all_data.add_trace(go.Violin(x=all_uninjured['Animal'][ all_uninjured['Innervation'] == 'Uninjured' ],\n",
    "                        y=all_uninjured['Mean_Intensity'][ all_uninjured['Innervation'] == 'Uninjured' ],\n",
    "                        legendgroup='Uninjured', scalegroup='Uninjured', name='Un',\n",
    "                        line_color='rgb(204, 102, 119)')\n",
    "             )\n",
    "else:\n",
    "    pass\n",
    "\n",
    "if control_exist is True:\n",
    "    all_data.add_trace(go.Violin(x=all_control['Animal'][ all_control['Innervation'] == 'Control' ],\n",
    "                        y=all_control['Mean_Intensity'][ all_control['Innervation'] == 'Control' ],\n",
    "                        legendgroup='Control', scalegroup='Control', name='Ctrl',\n",
    "                        line_color='rgb(17, 119, 51)')\n",
    "             )\n",
    "else:\n",
    "    pass\n",
    "\n",
    "all_data.update_traces(box_visible=True, meanline_visible=True, points=False)\n",
    "all_data.update_yaxes(title_text='Mean Intensity')\n",
    "all_data.update_xaxes(title_text='Animal', tick0=1, dtick=1)\n",
    "all_data.update_layout(title_text=\"All Data\", violinmode='group', yaxis_range=[-5000, 65000])\n",
    "\n",
    "all_data.write_image(\"Plotly_PNGs/All_Data.png\")\n",
    "all_data.write_html(\"Plotly_HTMLs/All_Data.html\")\n",
    "\n",
    "print(\"Done\")"
   ]
  },
  {
   "cell_type": "markdown",
   "id": "0c651eac",
   "metadata": {},
   "source": [
    "#### Violin for animals with uninjured data\n",
    "\n",
    "This cell can be deleted."
   ]
  },
  {
   "cell_type": "code",
   "execution_count": 30,
   "id": "409ac7c9",
   "metadata": {},
   "outputs": [
    {
     "name": "stdout",
     "output_type": "stream",
     "text": [
      "Done\n"
     ]
    }
   ],
   "source": [
    "# Creating Plotly violin to compare limbs of animals with Uninjured data\n",
    "\n",
    "if uninjureds_exist is True:\n",
    "    plotly_UninjuredAnimals = go.Figure()\n",
    "    plotly_UninjuredAnimals.add_trace(go.Violin(x=uninjured_comparison['Animal'][ uninjured_comparison['Innervation'] == 'Innervated' ],\n",
    "                        y=uninjured_comparison['Mean_Intensity'][ uninjured_comparison['Innervation'] == 'Innervated' ],\n",
    "                        legendgroup='In', scalegroup='In', name='In',\n",
    "                        line_color='rgb(136, 204, 238)')\n",
    "             )\n",
    "    plotly_UninjuredAnimals.add_trace(go.Violin(x=uninjured_comparison['Animal'][ uninjured_comparison['Innervation'] == 'Denervated' ],\n",
    "                        y=uninjured_comparison['Mean_Intensity'][ uninjured_comparison['Innervation'] == 'Denervated' ],\n",
    "                        legendgroup='De', scalegroup='De', name='De',\n",
    "                        line_color='rgb(221, 204, 119)')\n",
    "             )\n",
    "    plotly_UninjuredAnimals.add_trace(go.Violin(x=uninjured_comparison['Animal'][ uninjured_comparison['Innervation'] == 'Uninjured' ],\n",
    "                        y=uninjured_comparison['Mean_Intensity'][ uninjured_comparison['Innervation'] == 'Uninjured' ],\n",
    "                        legendgroup='Un', scalegroup='Un', name='Un',\n",
    "                        line_color='rgb(204, 102, 119)')\n",
    "             )\n",
    "\n",
    "    plotly_UninjuredAnimals.update_traces(box_visible=True, meanline_visible=True, points='outliers')\n",
    "    plotly_UninjuredAnimals.update_yaxes(title_text='Mean Intensity')\n",
    "    plotly_UninjuredAnimals.update_xaxes(title_text='Animal')\n",
    "    plotly_UninjuredAnimals.update_layout(title_text=\"Animals with Uninjured Limbs\", violinmode='group',\n",
    "                                     yaxis_range=[-5000, 65000])\n",
    "\n",
    "    plotly_UninjuredAnimals.write_image(\"Plotly_PNGs/Animals_WithUninjured.png\")\n",
    "    plotly_UninjuredAnimals.write_html(\"Plotly_HTMLs/Animals_WithUninjured.html\")\n",
    "\n",
    "else:\n",
    "    pass\n",
    "\n",
    "print(\"Done\")"
   ]
  },
  {
   "cell_type": "markdown",
   "id": "fed2d763",
   "metadata": {},
   "source": [
    "#### Split violin innervated:denervated\n",
    "\n",
    "This cell can be deleted."
   ]
  },
  {
   "cell_type": "code",
   "execution_count": 31,
   "id": "b9086bc2",
   "metadata": {},
   "outputs": [
    {
     "name": "stdout",
     "output_type": "stream",
     "text": [
      "Done\n"
     ]
    }
   ],
   "source": [
    "# Creating Plotly violin to compare Innervated:Denervated by animal\n",
    "\n",
    "innervated_denervated_split = go.Figure()\n",
    "\n",
    "innervated_denervated_split.add_trace(go.Violin(x=innervation_split['Animal'][ innervation_split['Innervation'] == 'Innervated' ],\n",
    "                        y=innervation_split['Mean_Intensity'][ innervation_split['Innervation'] == 'Innervated' ],\n",
    "                        alignmentgroup='Innervated', legendgroup='Innervated', scalegroup='Innervated', name='In',\n",
    "                        box_visible=True, meanline_visible=True, points='outliers', side='negative',\n",
    "                        line_color='rgb(136, 204, 238)')\n",
    "             )\n",
    "innervated_denervated_split.add_trace(go.Violin(x=innervation_split['Animal'][ innervation_split['Innervation'] == 'Denervated' ],\n",
    "                        y=innervation_split['Mean_Intensity'][ innervation_split['Innervation'] == 'Denervated' ],\n",
    "                        alignmentgroup='Denervated', legendgroup='Denervated', scalegroup='Denervated', name='De',\n",
    "                        box_visible=True, meanline_visible=True, points='outliers', side='negative',\n",
    "                        line_color='rgb(221, 204, 119)')\n",
    "             )\n",
    "\n",
    "innervated_denervated_split.update_layout(title_text=\"Innervated vs. Denervated\", violingap=0, violinmode='overlay',\n",
    "                                         yaxis_range=[-5000, 65000])\n",
    "innervated_denervated_split.update_yaxes(title_text='Mean Intensity')\n",
    "innervated_denervated_split.update_xaxes(title_text='Animal', tick0=1, dtick=1)\n",
    "\n",
    "innervated_denervated_split.write_image(\"Plotly_PNGs/Innerv_VsDenerv.png\")\n",
    "innervated_denervated_split.write_html(\"Plotly_HTMLs/Innerv_VsDenerv.html\")\n",
    "\n",
    "print(\"Done\")"
   ]
  },
  {
   "cell_type": "markdown",
   "id": "47575c46",
   "metadata": {},
   "source": [
    "### Exporting Plotly Violins to outfile\n",
    "\n",
    "This cell can be deleted."
   ]
  },
  {
   "cell_type": "code",
   "execution_count": 32,
   "id": "c44d20af",
   "metadata": {},
   "outputs": [
    {
     "name": "stdout",
     "output_type": "stream",
     "text": [
      "Done\n"
     ]
    }
   ],
   "source": [
    "# Creating and formatting worksheet to contain non-individual violins\n",
    "try:\n",
    "    excel_outfile_violinsheet = excel_outfile.add_worksheet(\"Comparison Plotly Violins\")\n",
    "except (xlsxwriter.exceptions.DuplicateWorksheetName):\n",
    "    pass\n",
    "    \n",
    "excel_outfile_violinsheet.hide_gridlines(2)\n",
    "excel_outfile_violinsheet.write(0, 0, 'Interactive violin plots can be found in the Plotly_HTMLs folder')\n",
    "\n",
    "# Creating and formatting worksheet to contain individual violins\n",
    "try:\n",
    "    excel_outfile_plotlyviolins = excel_outfile.add_worksheet(\"Individual Plotly Violins\")\n",
    "except (xlsxwriter.exceptions.DuplicateWorksheetName):\n",
    "    pass\n",
    "\n",
    "excel_outfile_plotlyviolins.hide_gridlines(2)\n",
    "excel_outfile_plotlyviolins.write(0, 0, 'Interactive violin plots can be found in the Plotly_HTMLs folder')\n",
    "\n",
    "static_plotlys = list()\n",
    "\n",
    "extraRowCounter = 27\n",
    "violinColumnCounter = 1\n",
    "hp_columnCounter = 1\n",
    "\n",
    "for plotly_violin in Path(plotly_path).iterdir():\n",
    "    violin_name = plotly_violin.name\n",
    "    if violin_name.endswith('.png'):\n",
    "        static_plotlys.append(plotly_violin)\n",
    "\n",
    "# Adding individual violins to Individual Violins worksheet\n",
    "for static_file in (sorted(static_plotlys)):\n",
    "    staticfile_name = static_file.name\n",
    "    for r in animals:\n",
    "        extraColumnCounter = 1\n",
    "        if staticfile_name.startswith(str(r) + '_Innervated'):\n",
    "            excel_outfile_plotlyviolins.insert_image(extraRowCounter - 26, extraColumnCounter, static_file)\n",
    "            extraRowCounter += 26\n",
    "            break\n",
    "    \n",
    "        elif staticfile_name.startswith(str(r) + '_Denervated'):\n",
    "            extraRowCounter -= 26\n",
    "            extraColumnCounter += 11\n",
    "            excel_outfile_plotlyviolins.insert_image(extraRowCounter, extraColumnCounter, static_file)\n",
    "            extraRowCounter += 26\n",
    "            break\n",
    "      \n",
    "        elif staticfile_name.startswith(str(r) + '_Uninjured'):\n",
    "            extraRowCounter -= 26\n",
    "            extraColumnCounter += 22\n",
    "            excel_outfile_plotlyviolins.insert_image(extraRowCounter - 26, extraColumnCounter, static_file)\n",
    "            extraRowCounter += 26\n",
    "            break\n",
    "       \n",
    "        elif staticfile_name.startswith(str(r) + '_Control'):\n",
    "            extraRowCounter -= 26\n",
    "            extraColumnCounter += 33\n",
    "            excel_outfile_plotlyviolins.insert_image(extraRowCounter, extraColumnCounter, static_file)\n",
    "            extraRowCounter += 26\n",
    "            break\n",
    "    \n",
    "    # Adding \"All_Condition\" violins to Comparison Violins worksheet\n",
    "    if staticfile_name.startswith('All_'):\n",
    "        excel_outfile_violinsheet.insert_image(1, violinColumnCounter, static_file)\n",
    "        violinColumnCounter += 11\n",
    "    \n",
    "    # Adding Split Innervated:Denervated violin\n",
    "    if staticfile_name.startswith('Innerv_VsDenerv'):\n",
    "        excel_outfile_violinsheet.insert_image(27, 1, static_file)\n",
    "\n",
    "    # Sequentially adding Violins for each HPD condition\n",
    "    for h in plotly_hours:\n",
    "        if staticfile_name.startswith(str(h) + 'hpd_Animals'):\n",
    "            excel_outfile_violinsheet.insert_image(53, hp_columnCounter, static_file)\n",
    "            hp_columnCounter += 11\n",
    "    \n",
    "    # Adding Violin for Animals with Uninjured data to compare\n",
    "    if staticfile_name.startswith('Animals_WithUninjured'):\n",
    "        excel_outfile_violinsheet.insert_image(27, 12, static_file)\n",
    "    \n",
    "    # Adding Violin for negative controls\n",
    "    if staticfile_name.startswith('Negative_'):\n",
    "        excel_outfile_violinsheet.insert_image(79, 1, static_file)\n",
    "\n",
    "print(\"Done\")"
   ]
  },
  {
   "cell_type": "markdown",
   "id": "14ab20b2",
   "metadata": {},
   "source": [
    "## Seaborn violins\n",
    "\n",
    "All of these cells can be deleted if you don't want any Seaborn violins.\n",
    "Individual cells can be deleted depending on what violins you do want."
   ]
  },
  {
   "cell_type": "code",
   "execution_count": 33,
   "id": "39df3434",
   "metadata": {},
   "outputs": [
    {
     "name": "stdout",
     "output_type": "stream",
     "text": [
      "Done\n"
     ]
    }
   ],
   "source": [
    "# Importing seaborn package\n",
    "import seaborn as sns\n",
    "\n",
    "# Creating folder to contain Seaborn static violins\n",
    "seaborn_violin_directory = \"Seaborn_Violins\"\n",
    "seaborn_path = os.path.join(file_path, seaborn_violin_directory)\n",
    "try:\n",
    "    os.mkdir(seaborn_path)\n",
    "except (FileExistsError):\n",
    "    pass\n",
    "\n",
    "print(\"Done\")"
   ]
  },
  {
   "cell_type": "markdown",
   "id": "ef640e91",
   "metadata": {},
   "source": [
    "#### Creating seaborn violins to compare innervation by Animal # and hours post denervation\n",
    "\n",
    "This cell can be deleted."
   ]
  },
  {
   "cell_type": "code",
   "execution_count": 34,
   "id": "fd82188a",
   "metadata": {
    "scrolled": true
   },
   "outputs": [
    {
     "name": "stdout",
     "output_type": "stream",
     "text": [
      "Done\n"
     ]
    }
   ],
   "source": [
    "# Defining function to make violins based on hpd condition\n",
    "def hpd_seaborn_violin(key, df):\n",
    "    ax = sns.violinplot(x=\"Animal\", y=\"Mean_Intensity\", hue=\"Innervation\",\n",
    "                   data=df, palette=\"colorblind\", inner=\"quartile\",\n",
    "                    scale=\"count\").set(title=str(key)+' Hours Post Denerv', \n",
    "                                       ylabel=\"Mean Intensity\", ylim=(-5000, 65000))\n",
    "    pyplot.tight_layout()\n",
    "    pyplot.savefig(os.path.join(seaborn_path, str(key)+\"hpd_Animals.png\"), dpi=300)\n",
    "    pyplot.close()\n",
    "\n",
    "# Creating violins for each condition in concatenated dataframe dictionary\n",
    "for key, values in hpd_concats.items():\n",
    "    df = values[0]\n",
    "    hpd_seaborn_violin(key, df)\n",
    "\n",
    "print(\"Done\")"
   ]
  },
  {
   "cell_type": "markdown",
   "id": "987833c7",
   "metadata": {},
   "source": [
    "#### Seaborn plots for individual violins\n",
    "\n",
    "This cell can be deleted."
   ]
  },
  {
   "cell_type": "code",
   "execution_count": 35,
   "id": "e43d5e45",
   "metadata": {},
   "outputs": [
    {
     "name": "stdout",
     "output_type": "stream",
     "text": [
      "Done\n"
     ]
    }
   ],
   "source": [
    "# Defining function to make violin plots for each individual distribution\n",
    "def seaborn_individual(df, innervation):\n",
    "            sns.set_theme(style='whitegrid')\n",
    "            ax = sns.violinplot(data=df, x='Animal', y='Mean_Intensity', \n",
    "                           inner='box', linewidth=1).set(title=str(s)+ ' '+ innervation, \n",
    "                                                              ylabel='Mean Intensity', ylim=(-5000, 65000))\n",
    "            pyplot.tight_layout()\n",
    "            pyplot.savefig(os.path.join(seaborn_path, str(s) + \"_\" + innervation) + '.png', dpi=300)\n",
    "            pyplot.close()\n",
    "\n",
    "# Creating individual violins\n",
    "for seaborn_file in sorted(seaborn_files):\n",
    "    csv_name = seaborn_file.name\n",
    "    df = pd.read_csv(seaborn_file)\n",
    "    for s in animals:\n",
    "        if csv_name.startswith(str(s) + '_Innervated_'+DDMMYY+'_Appended'):\n",
    "            innervation = \"Innervated\"\n",
    "            seaborn_individual(df, innervation)\n",
    "        \n",
    "        elif csv_name.startswith(str(s) + '_Denervated_'+DDMMYY+'_Appended'):\n",
    "            innervation = \"Denervated\"\n",
    "            seaborn_individual(df, innervation)\n",
    "            \n",
    "        elif csv_name.startswith(str(s) + '_Uninjured_'+DDMMYY+'_Appended'):\n",
    "            innervation = \"Uninjured\"\n",
    "            seaborn_individual(df, innervation)\n",
    "        \n",
    "        elif csv_name.startswith(str(s) + '_Control_'+DDMMYY+'_Appended'):\n",
    "            innervation = \"Control\"\n",
    "            seaborn_individual(df, innervation)\n",
    "            \n",
    "print(\"Done\")"
   ]
  },
  {
   "cell_type": "markdown",
   "id": "9361c8d9",
   "metadata": {},
   "source": [
    "#### Plots by innervation\n",
    "\n",
    "This cell can be deleted."
   ]
  },
  {
   "cell_type": "code",
   "execution_count": 36,
   "id": "39e92438",
   "metadata": {},
   "outputs": [
    {
     "name": "stdout",
     "output_type": "stream",
     "text": [
      "Done\n"
     ]
    }
   ],
   "source": [
    "# Creating seaborn figures by innervation\n",
    "\n",
    "# Innervated\n",
    "ax = sns.violinplot(x='Animal', y='Mean_Intensity', data=all_innervated, \n",
    "                    scale='count', inner=\"quartile\", palette='colorblind').set(title='All Innervated', \n",
    "                                                         ylabel='Mean Intensity', ylim=(-5000, 65000))\n",
    "pyplot.tight_layout()\n",
    "pyplot.savefig(os.path.join(seaborn_path, 'All_Innervated.png'), dpi=300)\n",
    "pyplot.close()\n",
    "\n",
    "# Denervated\n",
    "ax = sns.violinplot(x='Animal', y='Mean_Intensity', data=all_denervated, \n",
    "                    scale='count', inner=\"quartile\", palette='colorblind').set(title='All Denervated', \n",
    "                                                         ylabel='Mean Intensity', ylim=(-5000, 65000))\n",
    "pyplot.tight_layout()\n",
    "pyplot.savefig(os.path.join(seaborn_path, 'All_Denervated.png'), dpi=300)\n",
    "pyplot.close()\n",
    "\n",
    "# Uninjured\n",
    "if uninjured_exist is True:\n",
    "    ax = sns.violinplot(x='Animal', y='Mean_Intensity', data=all_uninjured, \n",
    "                    scale='count', inner=\"quartile\", palette='colorblind').set(title='All Uninjured', \n",
    "                                                         ylabel='Mean Intensity', ylim=(-5000, 65000))\n",
    "    pyplot.tight_layout()\n",
    "    pyplot.savefig(os.path.join(seaborn_path, 'All_Uninjured.png'), dpi=300)\n",
    "    pyplot.close()\n",
    "    \n",
    "else:\n",
    "    pass\n",
    "\n",
    "# Control\n",
    "if control_exist is True:\n",
    "    ax = sns.violinplot(x='Animal', y='Mean_Intensity', data=all_control, \n",
    "                    scale='count', inner=\"quartile\", palette='colorblind').set(title='Negative Control', \n",
    "                                                         ylabel='Mean Intensity', ylim=(-5000, 65000))\n",
    "    pyplot.tight_layout()\n",
    "    pyplot.savefig(os.path.join(seaborn_path, 'Negative_CTRLs.png'), dpi=300)\n",
    "    pyplot.close()\n",
    "\n",
    "else:\n",
    "    pass\n",
    "\n",
    "print(\"Done\")"
   ]
  },
  {
   "cell_type": "markdown",
   "id": "102caa1a",
   "metadata": {},
   "source": [
    "#### Violin for all data\n",
    "\n",
    "This cell can be deleted."
   ]
  },
  {
   "cell_type": "code",
   "execution_count": 37,
   "id": "03e7e67b",
   "metadata": {},
   "outputs": [
    {
     "name": "stdout",
     "output_type": "stream",
     "text": [
      "Done\n"
     ]
    }
   ],
   "source": [
    "# Creating seaborn violin to compare all data\n",
    "\n",
    "ax = sns.violinplot(x='Animal', y='Mean_Intensity', hue=\"Innervation\",\n",
    "                   data=all_traces, scale='count', palette=\"colorblind\", \n",
    "                    inner=\"quartile\").set(title='All Data', ylabel='Mean Intensity', ylim=(-5000, 65000))\n",
    "pyplot.tight_layout()\n",
    "pyplot.savefig(os.path.join(seaborn_path, 'All_Data.png'), dpi=300)\n",
    "pyplot.close()\n",
    "\n",
    "print(\"Done\")"
   ]
  },
  {
   "cell_type": "markdown",
   "id": "8b4ee0f8",
   "metadata": {},
   "source": [
    "#### Violin for animals with uninjured tissue\n",
    "\n",
    "This cell can be deleted."
   ]
  },
  {
   "cell_type": "code",
   "execution_count": 38,
   "id": "fc2d42a6",
   "metadata": {
    "scrolled": true
   },
   "outputs": [
    {
     "name": "stdout",
     "output_type": "stream",
     "text": [
      "Done\n"
     ]
    }
   ],
   "source": [
    "# Creating seaborn violins to compare animals with Uninjured tissue\n",
    "\n",
    "if uninjureds_exist is True:\n",
    "    ax = sns.violinplot(x=\"Animal\", y=\"Mean_Intensity\", data=uninjured_comparison, \n",
    "                    scale=\"count\", hue=\"Innervation\", palette='colorblind',\n",
    "                    inner=\"quartile\").set(title='Animals with Uninjured Limbs', \n",
    "                                          ylabel='Mean Intensity', ylim=(-5000, 65000))\n",
    "    pyplot.tight_layout()\n",
    "    pyplot.savefig(os.path.join(seaborn_path, \"Animals_WithUninjured.png\"), dpi=300)\n",
    "    pyplot.close()\n",
    "\n",
    "else:\n",
    "    pass\n",
    "\n",
    "print(\"Done\")"
   ]
  },
  {
   "cell_type": "markdown",
   "id": "b69fe9a4",
   "metadata": {},
   "source": [
    "#### Split violin for innervated:denervated\n",
    "\n",
    "This cell can be deleted. "
   ]
  },
  {
   "cell_type": "code",
   "execution_count": 39,
   "id": "3cf4b038",
   "metadata": {
    "scrolled": true
   },
   "outputs": [
    {
     "name": "stdout",
     "output_type": "stream",
     "text": [
      "Done\n"
     ]
    }
   ],
   "source": [
    "# Creating seaborn violin to compare innervated vs. denervated by animal\n",
    "\n",
    "ax = sns.violinplot(x=\"Animal\", y=\"Mean_Intensity\", hue=\"Innervation\", \n",
    "                    data=innervation_split, split=True, palette=\"colorblind\", scale='count', \n",
    "                    inner=\"quartile\").set(title='Innervated vs. Denervated', \n",
    "                                          ylabel='Mean Intensity', ylim=(-5000, 65000))\n",
    "pyplot.tight_layout()\n",
    "pyplot.savefig(os.path.join(seaborn_path, \"Innerv_VsDenerv.png\"), dpi=300)\n",
    "pyplot.close()\n",
    "\n",
    "print(\"Done\")"
   ]
  },
  {
   "cell_type": "markdown",
   "id": "5bcf1ca3",
   "metadata": {},
   "source": [
    "### Exporting seaborn Violins to Excel outfile\n",
    "\n",
    "This cell can be deleted."
   ]
  },
  {
   "cell_type": "code",
   "execution_count": 40,
   "id": "fd293cfb",
   "metadata": {},
   "outputs": [
    {
     "name": "stdout",
     "output_type": "stream",
     "text": [
      "Done\n"
     ]
    }
   ],
   "source": [
    "# Creating worksheet to contain seaborn violins.\n",
    "try:\n",
    "    excel_outfile_seabornsheet = excel_outfile.add_worksheet(\"Comparison Seaborn Violins\")\n",
    "except (xlsxwriter.exceptions.DuplicateWorksheetName):\n",
    "    pass\n",
    "    \n",
    "excel_outfile_seabornsheet.hide_gridlines(2)\n",
    "\n",
    "try:\n",
    "    excel_outfile_seabornviolins = excel_outfile.add_worksheet(\"Individual Seaborn Violins\")\n",
    "except (xlsxwriter.exceptions.DuplicateWorksheetName):\n",
    "    pass\n",
    "\n",
    "excel_outfile_seabornviolins.hide_gridlines(2)\n",
    "\n",
    "seaborn_violins = list()\n",
    "\n",
    "seabornRowCounter = 21\n",
    "seabornColumnCounter = 1\n",
    "extraColumnCounter = 1\n",
    "hoursColumnCounter = 1\n",
    "\n",
    "for seaborn_violin in Path(seaborn_path).iterdir():\n",
    "    seaborn_name = seaborn_violin.name\n",
    "    if seaborn_name.endswith('.png'):\n",
    "        seaborn_violins.append(seaborn_violin)\n",
    "\n",
    "# Adding individual seaborn violins to their respective sheet\n",
    "for violin in (sorted(seaborn_violins)):\n",
    "    violin_name = violin.name\n",
    "    \n",
    "    for r in animals:\n",
    "        seabornColumnCounter = 1\n",
    "        \n",
    "        if violin_name.startswith(str(r) + '_Innervated'):\n",
    "            excel_outfile_seabornviolins.insert_image(seabornRowCounter - 20, seabornColumnCounter, violin)\n",
    "            seabornRowCounter += 20\n",
    "            break\n",
    "    \n",
    "        elif violin_name.startswith(str(r) + '_Denervated'):\n",
    "            seabornColumnCounter += 9\n",
    "            seabornRowCounter -= 20\n",
    "            excel_outfile_seabornviolins.insert_image(seabornRowCounter, seabornColumnCounter, violin)\n",
    "            seabornRowCounter += 20\n",
    "            break\n",
    "      \n",
    "        elif violin_name.startswith(str(r) + '_Uninjured'):\n",
    "            seabornColumnCounter += 18\n",
    "            seabornRowCounter -= 20\n",
    "            excel_outfile_seabornviolins.insert_image(seabornRowCounter - 20, seabornColumnCounter, violin)\n",
    "            seabornRowCounter += 20\n",
    "            break\n",
    "       \n",
    "        elif violin_name.startswith(str(r) + '_Control'):\n",
    "            seabornColumnCounter += 27\n",
    "            seabornRowCounter -=20\n",
    "            excel_outfile_seabornviolins.insert_image(seabornRowCounter, seabornColumnCounter, violin)\n",
    "            seabornRowCounter += 20\n",
    "            break\n",
    "    \n",
    "    # Adding All_Condition violins to Comparison sheet\n",
    "    if violin_name.startswith('All_'):\n",
    "        excel_outfile_seabornsheet.insert_image(1, extraColumnCounter, violin)\n",
    "        extraColumnCounter += 9\n",
    "    \n",
    "    # Adding Split Innervated:Denervated violin\n",
    "    if violin_name.startswith('Innerv_VsDenerv'):\n",
    "        excel_outfile_seabornsheet.insert_image(21, 1, violin)\n",
    "    \n",
    "    # Adding violin for each hpd condition in hpd\n",
    "    for h in seaborn_hours:\n",
    "        if violin_name.startswith(str(h)+'hpd_Animals'):\n",
    "            excel_outfile_seabornsheet.insert_image(41, hoursColumnCounter, violin)\n",
    "            hoursColumnCounter +=9\n",
    "    \n",
    "    # Adding violin for animals with uninjured data\n",
    "    if violin_name.startswith('Animals_WithUninjured'):\n",
    "        excel_outfile_seabornsheet.insert_image(21, 10, violin)\n",
    "     \n",
    "    # Adding violin for negative control\n",
    "    if violin_name.startswith('Negative_'):\n",
    "        excel_outfile_seabornsheet.insert_image(62, 1, violin)\n",
    "\n",
    "print(\"Done\")"
   ]
  },
  {
   "cell_type": "markdown",
   "id": "a263a345",
   "metadata": {},
   "source": [
    "#### Saving and closing Statistics_DDMMYY.xlsx outfile\n",
    "\n",
    "This command must be run every time."
   ]
  },
  {
   "cell_type": "code",
   "execution_count": 41,
   "id": "2ac08f4a",
   "metadata": {},
   "outputs": [
    {
     "name": "stdout",
     "output_type": "stream",
     "text": [
      "Done\n"
     ]
    }
   ],
   "source": [
    "excel_outfile.close()\n",
    "\n",
    "print(\"Done\")"
   ]
  },
  {
   "cell_type": "markdown",
   "id": "10876cfa",
   "metadata": {},
   "source": [
    "# Troubleshooting:\n",
    "\n",
    "If you received an error, the ratio scatterplot is screwy, or there is data/files missing from the output files or Excel outfile, try these steps before rerunning.\n",
    "\n",
    "1. Check the file names!!! Make sure the ending is the same across all files. Make sure there aren't any spaces or unintended characters. \n",
    "\n",
    "2. Check the ranges defined by hpd_sort( ) and violin_df_srt(df) functions.\n",
    "\n",
    "3. Check the series range on the scatterplot to make sure it's plotting all values."
   ]
  }
 ],
 "metadata": {
  "kernelspec": {
   "display_name": "Python 3 (ipykernel)",
   "language": "python",
   "name": "python3"
  },
  "language_info": {
   "codemirror_mode": {
    "name": "ipython",
    "version": 3
   },
   "file_extension": ".py",
   "mimetype": "text/x-python",
   "name": "python",
   "nbconvert_exporter": "python",
   "pygments_lexer": "ipython3",
   "version": "3.8.12"
  }
 },
 "nbformat": 4,
 "nbformat_minor": 5
}
